{
 "cells": [
  {
   "cell_type": "code",
   "execution_count": null,
   "metadata": {},
   "outputs": [],
   "source": [
    "# 创建人脸清单"
   ]
  },
  {
   "cell_type": "code",
   "execution_count": 2,
   "metadata": {},
   "outputs": [
    {
     "data": {
      "text/plain": [
       "200"
      ]
     },
     "execution_count": 2,
     "metadata": {},
     "output_type": "execute_result"
    }
   ],
   "source": [
    "import requests\n",
    "import json\n",
    "create_facelists_url = \"https://api-lzw.cognitiveservices.azure.com/face/v1.0/facelists/{faceListId}\"\n",
    "subscription_key = \"dc17f7e7910d4575bceaaaa384b303b5\"\n",
    "assert subscription_key\n",
    "headers = {\n",
    "    # Request headers\n",
    "    'Content-Type': 'application/json',\n",
    "    'Ocp-Apim-Subscription-Key': subscription_key,\n",
    "}\n",
    "data = {\n",
    "    \"name\": \"list\",\n",
    "    \"userData\": \"face\",\n",
    "    \"recognitionModel\": \"recognition_02\"\n",
    "}\n",
    "params = {\n",
    "    # Request parameters\n",
    "    \"faceListId\": \"whois\"\n",
    "\n",
    "    #     'detectionModel': 'detection_01',\n",
    "}\n",
    "r_create = requests.put(create_facelists_url,\n",
    "                        headers=headers,\n",
    "                        params=params,\n",
    "                        json=data)\n",
    "# 请求成功，返回空字符串\n",
    "r_create.status_code"
   ]
  },
  {
   "cell_type": "code",
   "execution_count": 3,
   "metadata": {},
   "outputs": [
    {
     "data": {
      "text/plain": [
       "b''"
      ]
     },
     "execution_count": 3,
     "metadata": {},
     "output_type": "execute_result"
    }
   ],
   "source": [
    "r_create.content"
   ]
  },
  {
   "cell_type": "code",
   "execution_count": 4,
   "metadata": {},
   "outputs": [],
   "source": [
    "# 增加脸"
   ]
  },
  {
   "cell_type": "code",
   "execution_count": 5,
   "metadata": {},
   "outputs": [],
   "source": [
    "# 封装\n",
    "add_face_url = \"https://api-lzw.cognitiveservices.azure.com/face/v1.0/facelists/{faceListId}/persistedFaces\"\n",
    "subscription_key = \"dc17f7e7910d4575bceaaaa384b303b5\"\n",
    "assert subscription_key\n",
    "headers = {\n",
    "    # Request headers\n",
    "    'Content-Type': 'application/json',\n",
    "    'Ocp-Apim-Subscription-Key': subscription_key,\n",
    "}\n",
    "img_url = \"https://gitee.com/ChowiLau/APIzha/raw/master/caicaicai.jpg\"\n",
    "\n",
    "params_add_face = {\"faceListId\": \"whois\", \"userData\": \"蔡卓宜\"}\n",
    "\n",
    "r_add_face = requests.post(add_face_url,\n",
    "                           headers=headers,\n",
    "                           params=params_add_face,\n",
    "                           json={\"url\": img_url})\n",
    "\n",
    "# r = requests.post(add_face, headers=headers,params = params,json={\"url\": add_face_image})"
   ]
  },
  {
   "cell_type": "code",
   "execution_count": 6,
   "metadata": {},
   "outputs": [],
   "source": [
    "def AddFace(img_url=str, userData=str):\n",
    "    add_face_url = \"https://api-lzw.cognitiveservices.azure.com/face/v1.0/facelists/{faceListId}/persistedFaces\"\n",
    "    subscription_key = \"dc17f7e7910d4575bceaaaa384b303b5\"\n",
    "    assert subscription_key\n",
    "    headers = {\n",
    "        # Request headers\n",
    "        'Content-Type': 'application/json',\n",
    "        'Ocp-Apim-Subscription-Key': subscription_key,\n",
    "    }\n",
    "    img_url = img_url\n",
    "\n",
    "    params_add_face = {\"faceListId\": \"whois\", \"userData\": userData}\n",
    "    r_add_face = requests.post(add_face_url,\n",
    "                               headers=headers,\n",
    "                               params=params_add_face,\n",
    "                               json={\"url\": img_url})\n",
    "    return r_add_face.status_code  \n"
   ]
  },
  {
   "cell_type": "code",
   "execution_count": 7,
   "metadata": {},
   "outputs": [
    {
     "data": {
      "text/plain": [
       "400"
      ]
     },
     "execution_count": 7,
     "metadata": {},
     "output_type": "execute_result"
    }
   ],
   "source": [
    "#返回出状态码\n",
    "r_add_face.status_code"
   ]
  },
  {
   "cell_type": "code",
   "execution_count": 7,
   "metadata": {},
   "outputs": [],
   "source": [
    "# Get facelist\n",
    "def GetFacelist():\n",
    "    get_facelist_url = \"https://eastus.api.cognitive.microsoft.com/face/v1.0/facelists/{faceListId}\"\n",
    "    data = {\n",
    "        \"faceListId\": \"feiyuface\",\n",
    "    }\n",
    "    r_get_facelist = requests.get(get_facelist_url,\n",
    "                                  headers=headers,\n",
    "                                  params=data)\n",
    "    return r_get_facelist.json()"
   ]
  },
  {
   "cell_type": "code",
   "execution_count": 8,
   "metadata": {},
   "outputs": [
    {
     "data": {
      "text/plain": [
       "200"
      ]
     },
     "execution_count": 8,
     "metadata": {},
     "output_type": "execute_result"
    }
   ],
   "source": [
    "# 添加图片，增加至少十张以上\n",
    "AddFace(\"https://ss0.bdstatic.com/70cFuHSh_Q1YnxGkpoWK1HF6hhy/it/u=2109422304,1626274660&fm=26&gp=0.jpg\",\"吴世勋\")\n",
    "AddFace(\"https://ss0.bdstatic.com/70cFvHSh_Q1YnxGkpoWK1HF6hhy/it/u=2408554023,3090318145&fm=26&gp=0.jpg\",\"吴磊\")\n",
    "AddFace(\"https://ss0.bdstatic.com/70cFuHSh_Q1YnxGkpoWK1HF6hhy/it/u=2925881453,4188127107&fm=26&gp=0.jpg\",\"罗云熙\")\n",
    "AddFace(\"https://ss0.bdstatic.com/70cFvHSh_Q1YnxGkpoWK1HF6hhy/it/u=3784600023,383930931&fm=26&gp=0.jpg\",\"吴亦凡\")\n",
    "AddFace(\"https://ss0.bdstatic.com/70cFvHSh_Q1YnxGkpoWK1HF6hhy/it/u=171162777,1812236169&fm=26&gp=0.jpg\",\"黄宗泽\")\n",
    "AddFace(\"https://ss0.bdstatic.com/70cFuHSh_Q1YnxGkpoWK1HF6hhy/it/u=2597752294,533769030&fm=26&gp=0.jpg\",\"梁朝伟\")\n",
    "AddFace(\"https://ss1.bdstatic.com/70cFuXSh_Q1YnxGkpoWK1HF6hhy/it/u=1329064339,1912885528&fm=26&gp=0.jpg\",\"王嘉尔\")\n",
    "AddFace(\"https://ss1.bdstatic.com/70cFuXSh_Q1YnxGkpoWK1HF6hhy/it/u=1680796586,1342320051&fm=26&gp=0.jpg\",\"刘昊然\")\n",
    "AddFace(\"https://ss0.bdstatic.com/70cFuHSh_Q1YnxGkpoWK1HF6hhy/it/u=3133352696,3760892022&fm=26&gp=0.jpg\",\"邓伦\")\n",
    "AddFace(\"https://ss0.bdstatic.com/70cFuHSh_Q1YnxGkpoWK1HF6hhy/it/u=3944825201,4139500251&fm=26&gp=0.jpg\",\"彭于晏\")\n",
    "AddFace(\"https://ss0.bdstatic.com/70cFuHSh_Q1YnxGkpoWK1HF6hhy/it/u=2769671454,27088384&fm=26&gp=0.jpg\",\"胡歌\")\n",
    "# AddFace(\"https://ss0.bdstatic.com/70cFuHSh_Q1YnxGkpoWK1HF6hhy/it/u=938907610,3455985190&fm=26&gp=0.jpg\",\"陈飞宇\")"
   ]
  },
  {
   "cell_type": "code",
   "execution_count": 9,
   "metadata": {},
   "outputs": [],
   "source": [
    "# 选取一张人脸进行比对"
   ]
  },
  {
   "cell_type": "code",
   "execution_count": 10,
   "metadata": {},
   "outputs": [
    {
     "data": {
      "text/plain": [
       "'[{\"faceId\": \"aba4402a-06c7-483a-8e17-a9ef26e651b2\", \"faceRectangle\": {\"top\": 205, \"left\": 252, \"width\": 197, \"height\": 197}, \"faceAttributes\": {\"smile\": 0.003, \"headPose\": {\"pitch\": -12.3, \"roll\": 2.3, \"yaw\": 43.0}, \"gender\": \"male\", \"age\": 20.0, \"facialHair\": {\"moustache\": 0.1, \"beard\": 0.1, \"sideburns\": 0.1}, \"glasses\": \"NoGlasses\", \"emotion\": {\"anger\": 0.0, \"contempt\": 0.0, \"disgust\": 0.0, \"fear\": 0.0, \"happiness\": 0.003, \"neutral\": 0.996, \"sadness\": 0.0, \"surprise\": 0.0}, \"blur\": {\"blurLevel\": \"low\", \"value\": 0.14}, \"exposure\": {\"exposureLevel\": \"goodExposure\", \"value\": 0.66}, \"noise\": {\"noiseLevel\": \"low\", \"value\": 0.0}, \"makeup\": {\"eyeMakeup\": true, \"lipMakeup\": true}, \"accessories\": [], \"occlusion\": {\"foreheadOccluded\": false, \"eyeOccluded\": false, \"mouthOccluded\": false}, \"hair\": {\"bald\": 0.05, \"invisible\": false, \"hairColor\": [{\"color\": \"black\", \"confidence\": 1.0}, {\"color\": \"other\", \"confidence\": 0.84}, {\"color\": \"brown\", \"confidence\": 0.38}, {\"color\": \"gray\", \"confidence\": 0.26}, {\"color\": \"red\", \"confidence\": 0.16}, {\"color\": \"blond\", \"confidence\": 0.02}]}}}]'"
      ]
     },
     "execution_count": 10,
     "metadata": {},
     "output_type": "execute_result"
    }
   ],
   "source": [
    "# 3、检测人脸的id\n",
    "# replace <My Endpoint String> with the string from your endpoint URL\n",
    "face_api_url = 'https://eastus.api.cognitive.microsoft.com/face/v1.0/detect'\n",
    "\n",
    "# 请求正文\n",
    "image_url = 'https://ss3.bdstatic.com/70cFv8Sh_Q1YnxGkpoWK1HF6hhy/it/u=1926303982,937324775&fm=26&gp=0.jpg'\n",
    "\n",
    "headers = {'Ocp-Apim-Subscription-Key': subscription_key}\n",
    "\n",
    "# 请求参数\n",
    "params = {\n",
    "    'returnFaceId': 'true',\n",
    "    'returnFaceLandmarks': 'false',\n",
    "    # 选择model\n",
    "    'recognitionModel':'recognition_02',\n",
    "    'detectionModel':'detection_01',\n",
    "    # 可选参数,请仔细阅读API文档\n",
    "    'returnFaceAttributes': 'age,gender,headPose,smile,facialHair,glasses,emotion,hair,makeup,occlusion,accessories,blur,exposure,noise',\n",
    "}\n",
    "\n",
    "response = requests.post(face_api_url, params=params,\n",
    "                         headers=headers, json={\"url\": image_url})\n",
    "# json.dumps 将json变为字符串\n",
    "json.dumps(response.json())"
   ]
  },
  {
   "cell_type": "code",
   "execution_count": 11,
   "metadata": {},
   "outputs": [],
   "source": [
    "my_face = response.json()[0][\"faceId\"]"
   ]
  },
  {
   "cell_type": "code",
   "execution_count": 13,
   "metadata": {},
   "outputs": [
    {
     "data": {
      "text/plain": [
       "200"
      ]
     },
     "execution_count": 13,
     "metadata": {},
     "output_type": "execute_result"
    }
   ],
   "source": [
    "#4、Find similars\n",
    "\n",
    "findsimilars_url = \"https://eastus.api.cognitive.microsoft.com/face/v1.0/findsimilars\"\n",
    "\n",
    "# 请求正文 faceId需要先检测一张照片获取\n",
    "data_findsimilars = {\n",
    "    \"faceId\": my_face,\n",
    "    \"faceListId\": \"feiyuface\",\n",
    "    \"maxNumOfCandidatesReturned\": 10,\n",
    "    \"mode\": \"matchFace\"  #matchPerson\n",
    "}\n",
    "\n",
    "r_findsimilars = requests.post(findsimilars_url,\n",
    "                               headers=headers,\n",
    "                               json=data_findsimilars)\n",
    "r_findsimilars.status_code"
   ]
  },
  {
   "cell_type": "code",
   "execution_count": 14,
   "metadata": {},
   "outputs": [],
   "source": [
    "# 返回json数据"
   ]
  },
  {
   "cell_type": "code",
   "execution_count": 15,
   "metadata": {},
   "outputs": [
    {
     "data": {
      "text/plain": [
       "[{'persistedFaceId': '8d37b604-3fcc-48e4-be09-7229fa1ddac0',\n",
       "  'confidence': 0.25125},\n",
       " {'persistedFaceId': '5a4471cd-9aea-4773-a103-d1dd301ceaf1',\n",
       "  'confidence': 0.24858},\n",
       " {'persistedFaceId': '0b402461-8023-4480-98e9-afd463771261',\n",
       "  'confidence': 0.23001},\n",
       " {'persistedFaceId': '0f36983b-f09f-4211-9265-706a11c8c941',\n",
       "  'confidence': 0.14761},\n",
       " {'persistedFaceId': '7e8ad414-a514-4f1d-9f58-2cbf920de67d',\n",
       "  'confidence': 0.11907},\n",
       " {'persistedFaceId': '863f6c7b-ca7d-4ce0-ae03-09a6002f9dbe',\n",
       "  'confidence': 0.09855},\n",
       " {'persistedFaceId': '95ac4122-cb51-4ed0-b1d7-831c7a4aaeaf',\n",
       "  'confidence': 0.09796},\n",
       " {'persistedFaceId': 'a4d59518-7bd6-405f-82d1-a81b8e08a1c8',\n",
       "  'confidence': 0.09744},\n",
       " {'persistedFaceId': '2a2ce5cb-1802-4178-9795-142f5b65c3f6',\n",
       "  'confidence': 0.09667},\n",
       " {'persistedFaceId': 'ec6b8ee5-2f78-45a3-a379-d7e0ee2cad53',\n",
       "  'confidence': 0.09225}]"
      ]
     },
     "execution_count": 15,
     "metadata": {},
     "output_type": "execute_result"
    }
   ],
   "source": [
    "r_findsimilars.json()"
   ]
  },
  {
   "cell_type": "code",
   "execution_count": 16,
   "metadata": {},
   "outputs": [],
   "source": [
    "# 生成列表"
   ]
  },
  {
   "cell_type": "code",
   "execution_count": 22,
   "metadata": {},
   "outputs": [
    {
     "data": {
      "text/plain": [
       "{'persistedFaces': [{'persistedFaceId': '0f36983b-f09f-4211-9265-706a11c8c941',\n",
       "   'userData': '赖冠霖'},\n",
       "  {'persistedFaceId': '8d37b604-3fcc-48e4-be09-7229fa1ddac0',\n",
       "   'userData': '吴世勋'},\n",
       "  {'persistedFaceId': '0b402461-8023-4480-98e9-afd463771261',\n",
       "   'userData': '吴磊'},\n",
       "  {'persistedFaceId': '95ac4122-cb51-4ed0-b1d7-831c7a4aaeaf',\n",
       "   'userData': '罗云熙'},\n",
       "  {'persistedFaceId': '7e8ad414-a514-4f1d-9f58-2cbf920de67d',\n",
       "   'userData': '吴亦凡'},\n",
       "  {'persistedFaceId': '824b21fb-36af-4831-b376-be5ab9144d0d',\n",
       "   'userData': '黄宗泽'},\n",
       "  {'persistedFaceId': '863f6c7b-ca7d-4ce0-ae03-09a6002f9dbe',\n",
       "   'userData': '梁朝伟'},\n",
       "  {'persistedFaceId': '2a2ce5cb-1802-4178-9795-142f5b65c3f6',\n",
       "   'userData': '王嘉尔'},\n",
       "  {'persistedFaceId': '5a4471cd-9aea-4773-a103-d1dd301ceaf1',\n",
       "   'userData': '刘昊然'},\n",
       "  {'persistedFaceId': 'ec6b8ee5-2f78-45a3-a379-d7e0ee2cad53',\n",
       "   'userData': '邓伦'},\n",
       "  {'persistedFaceId': 'b577eadb-c991-4982-b189-bd57090569f4',\n",
       "   'userData': '彭于晏'},\n",
       "  {'persistedFaceId': 'a4d59518-7bd6-405f-82d1-a81b8e08a1c8',\n",
       "   'userData': '胡歌'}],\n",
       " 'faceListId': 'feiyuface',\n",
       " 'name': 'list',\n",
       " 'userData': 'face'}"
      ]
     },
     "execution_count": 22,
     "metadata": {},
     "output_type": "execute_result"
    }
   ],
   "source": [
    "get_facelist_url = \"https://eastus.api.cognitive.microsoft.com/face/v1.0/facelists/{faceListId}\"\n",
    "\n",
    "data = {\n",
    "    \"faceListId\":\"feiyuface\",\n",
    "\n",
    "}\n",
    "\n",
    "r_get_facelist = requests.get(get_facelist_url,headers=headers,params=data)\n",
    "r_get_facelist.json()"
   ]
  },
  {
   "cell_type": "code",
   "execution_count": 23,
   "metadata": {},
   "outputs": [
    {
     "data": {
      "text/html": [
       "<div>\n",
       "<style scoped>\n",
       "    .dataframe tbody tr th:only-of-type {\n",
       "        vertical-align: middle;\n",
       "    }\n",
       "\n",
       "    .dataframe tbody tr th {\n",
       "        vertical-align: top;\n",
       "    }\n",
       "\n",
       "    .dataframe thead th {\n",
       "        text-align: right;\n",
       "    }\n",
       "</style>\n",
       "<table border=\"1\" class=\"dataframe\">\n",
       "  <thead>\n",
       "    <tr style=\"text-align: right;\">\n",
       "      <th></th>\n",
       "      <th>persistedFaceId</th>\n",
       "      <th>userData</th>\n",
       "    </tr>\n",
       "  </thead>\n",
       "  <tbody>\n",
       "    <tr>\n",
       "      <th>0</th>\n",
       "      <td>0f36983b-f09f-4211-9265-706a11c8c941</td>\n",
       "      <td>赖冠霖</td>\n",
       "    </tr>\n",
       "    <tr>\n",
       "      <th>1</th>\n",
       "      <td>8d37b604-3fcc-48e4-be09-7229fa1ddac0</td>\n",
       "      <td>吴世勋</td>\n",
       "    </tr>\n",
       "    <tr>\n",
       "      <th>2</th>\n",
       "      <td>0b402461-8023-4480-98e9-afd463771261</td>\n",
       "      <td>吴磊</td>\n",
       "    </tr>\n",
       "    <tr>\n",
       "      <th>3</th>\n",
       "      <td>95ac4122-cb51-4ed0-b1d7-831c7a4aaeaf</td>\n",
       "      <td>罗云熙</td>\n",
       "    </tr>\n",
       "    <tr>\n",
       "      <th>4</th>\n",
       "      <td>7e8ad414-a514-4f1d-9f58-2cbf920de67d</td>\n",
       "      <td>吴亦凡</td>\n",
       "    </tr>\n",
       "    <tr>\n",
       "      <th>5</th>\n",
       "      <td>824b21fb-36af-4831-b376-be5ab9144d0d</td>\n",
       "      <td>黄宗泽</td>\n",
       "    </tr>\n",
       "    <tr>\n",
       "      <th>6</th>\n",
       "      <td>863f6c7b-ca7d-4ce0-ae03-09a6002f9dbe</td>\n",
       "      <td>梁朝伟</td>\n",
       "    </tr>\n",
       "    <tr>\n",
       "      <th>7</th>\n",
       "      <td>2a2ce5cb-1802-4178-9795-142f5b65c3f6</td>\n",
       "      <td>王嘉尔</td>\n",
       "    </tr>\n",
       "    <tr>\n",
       "      <th>8</th>\n",
       "      <td>5a4471cd-9aea-4773-a103-d1dd301ceaf1</td>\n",
       "      <td>刘昊然</td>\n",
       "    </tr>\n",
       "    <tr>\n",
       "      <th>9</th>\n",
       "      <td>ec6b8ee5-2f78-45a3-a379-d7e0ee2cad53</td>\n",
       "      <td>邓伦</td>\n",
       "    </tr>\n",
       "    <tr>\n",
       "      <th>10</th>\n",
       "      <td>b577eadb-c991-4982-b189-bd57090569f4</td>\n",
       "      <td>彭于晏</td>\n",
       "    </tr>\n",
       "    <tr>\n",
       "      <th>11</th>\n",
       "      <td>a4d59518-7bd6-405f-82d1-a81b8e08a1c8</td>\n",
       "      <td>胡歌</td>\n",
       "    </tr>\n",
       "  </tbody>\n",
       "</table>\n",
       "</div>"
      ],
      "text/plain": [
       "                         persistedFaceId userData\n",
       "0   0f36983b-f09f-4211-9265-706a11c8c941      赖冠霖\n",
       "1   8d37b604-3fcc-48e4-be09-7229fa1ddac0      吴世勋\n",
       "2   0b402461-8023-4480-98e9-afd463771261       吴磊\n",
       "3   95ac4122-cb51-4ed0-b1d7-831c7a4aaeaf      罗云熙\n",
       "4   7e8ad414-a514-4f1d-9f58-2cbf920de67d      吴亦凡\n",
       "5   824b21fb-36af-4831-b376-be5ab9144d0d      黄宗泽\n",
       "6   863f6c7b-ca7d-4ce0-ae03-09a6002f9dbe      梁朝伟\n",
       "7   2a2ce5cb-1802-4178-9795-142f5b65c3f6      王嘉尔\n",
       "8   5a4471cd-9aea-4773-a103-d1dd301ceaf1      刘昊然\n",
       "9   ec6b8ee5-2f78-45a3-a379-d7e0ee2cad53       邓伦\n",
       "10  b577eadb-c991-4982-b189-bd57090569f4      彭于晏\n",
       "11  a4d59518-7bd6-405f-82d1-a81b8e08a1c8       胡歌"
      ]
     },
     "execution_count": 23,
     "metadata": {},
     "output_type": "execute_result"
    }
   ],
   "source": [
    "import pandas as pd\n",
    "adf = pd.json_normalize(r_get_facelist.json()[\"persistedFaces\"])# 升级pandas才能运行\n",
    "adf"
   ]
  },
  {
   "cell_type": "code",
   "execution_count": 24,
   "metadata": {},
   "outputs": [
    {
     "data": {
      "text/html": [
       "<div>\n",
       "<style scoped>\n",
       "    .dataframe tbody tr th:only-of-type {\n",
       "        vertical-align: middle;\n",
       "    }\n",
       "\n",
       "    .dataframe tbody tr th {\n",
       "        vertical-align: top;\n",
       "    }\n",
       "\n",
       "    .dataframe thead th {\n",
       "        text-align: right;\n",
       "    }\n",
       "</style>\n",
       "<table border=\"1\" class=\"dataframe\">\n",
       "  <thead>\n",
       "    <tr style=\"text-align: right;\">\n",
       "      <th></th>\n",
       "      <th>persistedFaceId</th>\n",
       "      <th>confidence</th>\n",
       "    </tr>\n",
       "  </thead>\n",
       "  <tbody>\n",
       "    <tr>\n",
       "      <th>0</th>\n",
       "      <td>8d37b604-3fcc-48e4-be09-7229fa1ddac0</td>\n",
       "      <td>0.25125</td>\n",
       "    </tr>\n",
       "    <tr>\n",
       "      <th>1</th>\n",
       "      <td>5a4471cd-9aea-4773-a103-d1dd301ceaf1</td>\n",
       "      <td>0.24858</td>\n",
       "    </tr>\n",
       "    <tr>\n",
       "      <th>2</th>\n",
       "      <td>0b402461-8023-4480-98e9-afd463771261</td>\n",
       "      <td>0.23001</td>\n",
       "    </tr>\n",
       "    <tr>\n",
       "      <th>3</th>\n",
       "      <td>0f36983b-f09f-4211-9265-706a11c8c941</td>\n",
       "      <td>0.14761</td>\n",
       "    </tr>\n",
       "    <tr>\n",
       "      <th>4</th>\n",
       "      <td>7e8ad414-a514-4f1d-9f58-2cbf920de67d</td>\n",
       "      <td>0.11907</td>\n",
       "    </tr>\n",
       "    <tr>\n",
       "      <th>5</th>\n",
       "      <td>863f6c7b-ca7d-4ce0-ae03-09a6002f9dbe</td>\n",
       "      <td>0.09855</td>\n",
       "    </tr>\n",
       "    <tr>\n",
       "      <th>6</th>\n",
       "      <td>95ac4122-cb51-4ed0-b1d7-831c7a4aaeaf</td>\n",
       "      <td>0.09796</td>\n",
       "    </tr>\n",
       "    <tr>\n",
       "      <th>7</th>\n",
       "      <td>a4d59518-7bd6-405f-82d1-a81b8e08a1c8</td>\n",
       "      <td>0.09744</td>\n",
       "    </tr>\n",
       "    <tr>\n",
       "      <th>8</th>\n",
       "      <td>2a2ce5cb-1802-4178-9795-142f5b65c3f6</td>\n",
       "      <td>0.09667</td>\n",
       "    </tr>\n",
       "    <tr>\n",
       "      <th>9</th>\n",
       "      <td>ec6b8ee5-2f78-45a3-a379-d7e0ee2cad53</td>\n",
       "      <td>0.09225</td>\n",
       "    </tr>\n",
       "  </tbody>\n",
       "</table>\n",
       "</div>"
      ],
      "text/plain": [
       "                        persistedFaceId  confidence\n",
       "0  8d37b604-3fcc-48e4-be09-7229fa1ddac0     0.25125\n",
       "1  5a4471cd-9aea-4773-a103-d1dd301ceaf1     0.24858\n",
       "2  0b402461-8023-4480-98e9-afd463771261     0.23001\n",
       "3  0f36983b-f09f-4211-9265-706a11c8c941     0.14761\n",
       "4  7e8ad414-a514-4f1d-9f58-2cbf920de67d     0.11907\n",
       "5  863f6c7b-ca7d-4ce0-ae03-09a6002f9dbe     0.09855\n",
       "6  95ac4122-cb51-4ed0-b1d7-831c7a4aaeaf     0.09796\n",
       "7  a4d59518-7bd6-405f-82d1-a81b8e08a1c8     0.09744\n",
       "8  2a2ce5cb-1802-4178-9795-142f5b65c3f6     0.09667\n",
       "9  ec6b8ee5-2f78-45a3-a379-d7e0ee2cad53     0.09225"
      ]
     },
     "execution_count": 24,
     "metadata": {},
     "output_type": "execute_result"
    }
   ],
   "source": [
    "bdf = pd.json_normalize(r_findsimilars.json())# 升级pandas才能运行\n",
    "bdf"
   ]
  },
  {
   "cell_type": "code",
   "execution_count": 25,
   "metadata": {
    "scrolled": true
   },
   "outputs": [
    {
     "data": {
      "text/html": [
       "<div>\n",
       "<style scoped>\n",
       "    .dataframe tbody tr th:only-of-type {\n",
       "        vertical-align: middle;\n",
       "    }\n",
       "\n",
       "    .dataframe tbody tr th {\n",
       "        vertical-align: top;\n",
       "    }\n",
       "\n",
       "    .dataframe thead th {\n",
       "        text-align: right;\n",
       "    }\n",
       "</style>\n",
       "<table border=\"1\" class=\"dataframe\">\n",
       "  <thead>\n",
       "    <tr style=\"text-align: right;\">\n",
       "      <th></th>\n",
       "      <th>persistedFaceId</th>\n",
       "      <th>userData</th>\n",
       "      <th>confidence</th>\n",
       "    </tr>\n",
       "  </thead>\n",
       "  <tbody>\n",
       "    <tr>\n",
       "      <th>1</th>\n",
       "      <td>8d37b604-3fcc-48e4-be09-7229fa1ddac0</td>\n",
       "      <td>吴世勋</td>\n",
       "      <td>0.25125</td>\n",
       "    </tr>\n",
       "    <tr>\n",
       "      <th>7</th>\n",
       "      <td>5a4471cd-9aea-4773-a103-d1dd301ceaf1</td>\n",
       "      <td>刘昊然</td>\n",
       "      <td>0.24858</td>\n",
       "    </tr>\n",
       "    <tr>\n",
       "      <th>2</th>\n",
       "      <td>0b402461-8023-4480-98e9-afd463771261</td>\n",
       "      <td>吴磊</td>\n",
       "      <td>0.23001</td>\n",
       "    </tr>\n",
       "    <tr>\n",
       "      <th>0</th>\n",
       "      <td>0f36983b-f09f-4211-9265-706a11c8c941</td>\n",
       "      <td>赖冠霖</td>\n",
       "      <td>0.14761</td>\n",
       "    </tr>\n",
       "    <tr>\n",
       "      <th>4</th>\n",
       "      <td>7e8ad414-a514-4f1d-9f58-2cbf920de67d</td>\n",
       "      <td>吴亦凡</td>\n",
       "      <td>0.11907</td>\n",
       "    </tr>\n",
       "    <tr>\n",
       "      <th>5</th>\n",
       "      <td>863f6c7b-ca7d-4ce0-ae03-09a6002f9dbe</td>\n",
       "      <td>梁朝伟</td>\n",
       "      <td>0.09855</td>\n",
       "    </tr>\n",
       "    <tr>\n",
       "      <th>3</th>\n",
       "      <td>95ac4122-cb51-4ed0-b1d7-831c7a4aaeaf</td>\n",
       "      <td>罗云熙</td>\n",
       "      <td>0.09796</td>\n",
       "    </tr>\n",
       "    <tr>\n",
       "      <th>9</th>\n",
       "      <td>a4d59518-7bd6-405f-82d1-a81b8e08a1c8</td>\n",
       "      <td>胡歌</td>\n",
       "      <td>0.09744</td>\n",
       "    </tr>\n",
       "    <tr>\n",
       "      <th>6</th>\n",
       "      <td>2a2ce5cb-1802-4178-9795-142f5b65c3f6</td>\n",
       "      <td>王嘉尔</td>\n",
       "      <td>0.09667</td>\n",
       "    </tr>\n",
       "    <tr>\n",
       "      <th>8</th>\n",
       "      <td>ec6b8ee5-2f78-45a3-a379-d7e0ee2cad53</td>\n",
       "      <td>邓伦</td>\n",
       "      <td>0.09225</td>\n",
       "    </tr>\n",
       "  </tbody>\n",
       "</table>\n",
       "</div>"
      ],
      "text/plain": [
       "                        persistedFaceId userData  confidence\n",
       "1  8d37b604-3fcc-48e4-be09-7229fa1ddac0      吴世勋     0.25125\n",
       "7  5a4471cd-9aea-4773-a103-d1dd301ceaf1      刘昊然     0.24858\n",
       "2  0b402461-8023-4480-98e9-afd463771261       吴磊     0.23001\n",
       "0  0f36983b-f09f-4211-9265-706a11c8c941      赖冠霖     0.14761\n",
       "4  7e8ad414-a514-4f1d-9f58-2cbf920de67d      吴亦凡     0.11907\n",
       "5  863f6c7b-ca7d-4ce0-ae03-09a6002f9dbe      梁朝伟     0.09855\n",
       "3  95ac4122-cb51-4ed0-b1d7-831c7a4aaeaf      罗云熙     0.09796\n",
       "9  a4d59518-7bd6-405f-82d1-a81b8e08a1c8       胡歌     0.09744\n",
       "6  2a2ce5cb-1802-4178-9795-142f5b65c3f6      王嘉尔     0.09667\n",
       "8  ec6b8ee5-2f78-45a3-a379-d7e0ee2cad53       邓伦     0.09225"
      ]
     },
     "execution_count": 25,
     "metadata": {},
     "output_type": "execute_result"
    }
   ],
   "source": [
    "pd.merge(adf, bdf,how='inner', on='persistedFaceId').sort_values(by=\"confidence\",ascending = False)"
   ]
  },
  {
   "cell_type": "code",
   "execution_count": null,
   "metadata": {},
   "outputs": [],
   "source": []
  }
 ],
 "metadata": {
  "kernelspec": {
   "display_name": "Python 3",
   "language": "python",
   "name": "python3"
  },
  "language_info": {
   "codemirror_mode": {
    "name": "ipython",
    "version": 3
   },
   "file_extension": ".py",
   "mimetype": "text/x-python",
   "name": "python",
   "nbconvert_exporter": "python",
   "pygments_lexer": "ipython3",
   "version": "3.7.3"
  },
  "toc": {
   "base_numbering": 1,
   "nav_menu": {},
   "number_sections": true,
   "sideBar": true,
   "skip_h1_title": false,
   "title_cell": "Table of Contents",
   "title_sidebar": "Contents",
   "toc_cell": false,
   "toc_position": {},
   "toc_section_display": true,
   "toc_window_display": false
  }
 },
 "nbformat": 4,
 "nbformat_minor": 2
}
